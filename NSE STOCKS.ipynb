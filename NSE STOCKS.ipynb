{
 "cells": [
  {
   "cell_type": "code",
   "execution_count": 99,
   "id": "f5656553",
   "metadata": {},
   "outputs": [],
   "source": [
    "import pandas as pd\n",
    "import numpy as np\n",
    "import matplotlib.pyplot as plt\n",
    "import seaborn as sns\n",
    "from scipy.stats import norm\n",
    "from scipy import stats\n",
    "%matplotlib inline\n",
    "\n"
   ]
  },
  {
   "cell_type": "code",
   "execution_count": 32,
   "id": "c8d25355",
   "metadata": {},
   "outputs": [],
   "source": [
    "df=pd.read_csv('/Users/o876/Downloads/NSE_data_all_stocks_2013.csv')"
   ]
  },
  {
   "cell_type": "code",
   "execution_count": 33,
   "id": "fbcc57da",
   "metadata": {},
   "outputs": [
    {
     "data": {
      "text/html": [
       "<div>\n",
       "<style scoped>\n",
       "    .dataframe tbody tr th:only-of-type {\n",
       "        vertical-align: middle;\n",
       "    }\n",
       "\n",
       "    .dataframe tbody tr th {\n",
       "        vertical-align: top;\n",
       "    }\n",
       "\n",
       "    .dataframe thead th {\n",
       "        text-align: right;\n",
       "    }\n",
       "</style>\n",
       "<table border=\"1\" class=\"dataframe\">\n",
       "  <thead>\n",
       "    <tr style=\"text-align: right;\">\n",
       "      <th></th>\n",
       "      <th>DATE</th>\n",
       "      <th>CODE</th>\n",
       "      <th>NAME</th>\n",
       "      <th>12m Low</th>\n",
       "      <th>12m High</th>\n",
       "      <th>Day Low</th>\n",
       "      <th>Day High</th>\n",
       "      <th>Day Price</th>\n",
       "      <th>Previous</th>\n",
       "      <th>Change</th>\n",
       "      <th>Change%</th>\n",
       "      <th>Volume</th>\n",
       "      <th>Adjust</th>\n",
       "    </tr>\n",
       "  </thead>\n",
       "  <tbody>\n",
       "    <tr>\n",
       "      <th>0</th>\n",
       "      <td>2-Jan-13</td>\n",
       "      <td>EGAD</td>\n",
       "      <td>Eaagads Ltd</td>\n",
       "      <td>8.2</td>\n",
       "      <td>14</td>\n",
       "      <td>25</td>\n",
       "      <td>25</td>\n",
       "      <td>25</td>\n",
       "      <td>25</td>\n",
       "      <td>-</td>\n",
       "      <td>-</td>\n",
       "      <td>-</td>\n",
       "      <td>-</td>\n",
       "    </tr>\n",
       "    <tr>\n",
       "      <th>1</th>\n",
       "      <td>2-Jan-13</td>\n",
       "      <td>KUKZ</td>\n",
       "      <td>Kakuzi Plc</td>\n",
       "      <td>300</td>\n",
       "      <td>423.5</td>\n",
       "      <td>67.5</td>\n",
       "      <td>67.5</td>\n",
       "      <td>67.5</td>\n",
       "      <td>72</td>\n",
       "      <td>-4.5</td>\n",
       "      <td>6.25%</td>\n",
       "      <td>300</td>\n",
       "      <td>-</td>\n",
       "    </tr>\n",
       "    <tr>\n",
       "      <th>2</th>\n",
       "      <td>2-Jan-13</td>\n",
       "      <td>KAPC</td>\n",
       "      <td>Kapchorua Tea Kenya Plc</td>\n",
       "      <td>59</td>\n",
       "      <td>95</td>\n",
       "      <td>118</td>\n",
       "      <td>118</td>\n",
       "      <td>118</td>\n",
       "      <td>118</td>\n",
       "      <td>-</td>\n",
       "      <td>-</td>\n",
       "      <td>-</td>\n",
       "      <td>59</td>\n",
       "    </tr>\n",
       "    <tr>\n",
       "      <th>3</th>\n",
       "      <td>2-Jan-13</td>\n",
       "      <td>LIMT</td>\n",
       "      <td>Limuru Tea Plc</td>\n",
       "      <td>385</td>\n",
       "      <td>475</td>\n",
       "      <td>430</td>\n",
       "      <td>430</td>\n",
       "      <td>430</td>\n",
       "      <td>430</td>\n",
       "      <td>-</td>\n",
       "      <td>-</td>\n",
       "      <td>-</td>\n",
       "      <td>215</td>\n",
       "    </tr>\n",
       "    <tr>\n",
       "      <th>4</th>\n",
       "      <td>2-Jan-13</td>\n",
       "      <td>SASN</td>\n",
       "      <td>Sasini Plc</td>\n",
       "      <td>14.8</td>\n",
       "      <td>19.6</td>\n",
       "      <td>11.7</td>\n",
       "      <td>12.05</td>\n",
       "      <td>11.9</td>\n",
       "      <td>11.7</td>\n",
       "      <td>0.2</td>\n",
       "      <td>1.71%</td>\n",
       "      <td>14,500</td>\n",
       "      <td>-</td>\n",
       "    </tr>\n",
       "  </tbody>\n",
       "</table>\n",
       "</div>"
      ],
      "text/plain": [
       "       DATE  CODE                     NAME 12m Low 12m High Day Low Day High  \\\n",
       "0  2-Jan-13  EGAD              Eaagads Ltd     8.2       14      25       25   \n",
       "1  2-Jan-13  KUKZ               Kakuzi Plc     300    423.5    67.5     67.5   \n",
       "2  2-Jan-13  KAPC  Kapchorua Tea Kenya Plc      59       95     118      118   \n",
       "3  2-Jan-13  LIMT           Limuru Tea Plc     385      475     430      430   \n",
       "4  2-Jan-13  SASN               Sasini Plc    14.8     19.6    11.7    12.05   \n",
       "\n",
       "  Day Price Previous Change Change%  Volume Adjust  \n",
       "0        25       25      -       -       -      -  \n",
       "1      67.5       72   -4.5   6.25%     300      -  \n",
       "2       118      118      -       -       -     59  \n",
       "3       430      430      -       -       -    215  \n",
       "4      11.9     11.7    0.2   1.71%  14,500      -  "
      ]
     },
     "execution_count": 33,
     "metadata": {},
     "output_type": "execute_result"
    }
   ],
   "source": [
    "df.head()"
   ]
  },
  {
   "cell_type": "code",
   "execution_count": 35,
   "id": "27fa5c85",
   "metadata": {
    "scrolled": true
   },
   "outputs": [
    {
     "data": {
      "text/html": [
       "<div>\n",
       "<style scoped>\n",
       "    .dataframe tbody tr th:only-of-type {\n",
       "        vertical-align: middle;\n",
       "    }\n",
       "\n",
       "    .dataframe tbody tr th {\n",
       "        vertical-align: top;\n",
       "    }\n",
       "\n",
       "    .dataframe thead th {\n",
       "        text-align: right;\n",
       "    }\n",
       "</style>\n",
       "<table border=\"1\" class=\"dataframe\">\n",
       "  <thead>\n",
       "    <tr style=\"text-align: right;\">\n",
       "      <th></th>\n",
       "      <th>DATE</th>\n",
       "      <th>CODE</th>\n",
       "      <th>NAME</th>\n",
       "      <th>12m Low</th>\n",
       "      <th>12m High</th>\n",
       "      <th>Day Low</th>\n",
       "      <th>Day High</th>\n",
       "      <th>Day Price</th>\n",
       "      <th>Previous</th>\n",
       "      <th>Change</th>\n",
       "      <th>Change%</th>\n",
       "      <th>Volume</th>\n",
       "      <th>Adjust</th>\n",
       "    </tr>\n",
       "  </thead>\n",
       "  <tbody>\n",
       "    <tr>\n",
       "      <th>count</th>\n",
       "      <td>14889</td>\n",
       "      <td>14889</td>\n",
       "      <td>14889</td>\n",
       "      <td>14889</td>\n",
       "      <td>14889</td>\n",
       "      <td>14889</td>\n",
       "      <td>14889</td>\n",
       "      <td>14889</td>\n",
       "      <td>14889</td>\n",
       "      <td>14889</td>\n",
       "      <td>14889</td>\n",
       "      <td>14889</td>\n",
       "      <td>14889</td>\n",
       "    </tr>\n",
       "    <tr>\n",
       "      <th>unique</th>\n",
       "      <td>247</td>\n",
       "      <td>62</td>\n",
       "      <td>62</td>\n",
       "      <td>90</td>\n",
       "      <td>101</td>\n",
       "      <td>1811</td>\n",
       "      <td>1807</td>\n",
       "      <td>2146</td>\n",
       "      <td>2147</td>\n",
       "      <td>677</td>\n",
       "      <td>785</td>\n",
       "      <td>4443</td>\n",
       "      <td>1040</td>\n",
       "    </tr>\n",
       "    <tr>\n",
       "      <th>top</th>\n",
       "      <td>31-Dec-13</td>\n",
       "      <td>EGAD</td>\n",
       "      <td>Eaagads Ltd</td>\n",
       "      <td>2</td>\n",
       "      <td>55.5</td>\n",
       "      <td>5.5</td>\n",
       "      <td>3</td>\n",
       "      <td>5.5</td>\n",
       "      <td>5.5</td>\n",
       "      <td>-</td>\n",
       "      <td>-</td>\n",
       "      <td>-</td>\n",
       "      <td>-</td>\n",
       "    </tr>\n",
       "    <tr>\n",
       "      <th>freq</th>\n",
       "      <td>62</td>\n",
       "      <td>247</td>\n",
       "      <td>247</td>\n",
       "      <td>476</td>\n",
       "      <td>494</td>\n",
       "      <td>269</td>\n",
       "      <td>273</td>\n",
       "      <td>262</td>\n",
       "      <td>262</td>\n",
       "      <td>5096</td>\n",
       "      <td>5099</td>\n",
       "      <td>3231</td>\n",
       "      <td>10521</td>\n",
       "    </tr>\n",
       "  </tbody>\n",
       "</table>\n",
       "</div>"
      ],
      "text/plain": [
       "             DATE   CODE         NAME 12m Low 12m High Day Low Day High  \\\n",
       "count       14889  14889        14889   14889    14889   14889    14889   \n",
       "unique        247     62           62      90      101    1811     1807   \n",
       "top     31-Dec-13   EGAD  Eaagads Ltd       2     55.5     5.5        3   \n",
       "freq           62    247          247     476      494     269      273   \n",
       "\n",
       "       Day Price Previous Change Change% Volume Adjust  \n",
       "count      14889    14889  14889   14889  14889  14889  \n",
       "unique      2146     2147    677     785   4443   1040  \n",
       "top          5.5      5.5      -       -      -      -  \n",
       "freq         262      262   5096    5099   3231  10521  "
      ]
     },
     "execution_count": 35,
     "metadata": {},
     "output_type": "execute_result"
    }
   ],
   "source": [
    "df.describe()"
   ]
  },
  {
   "cell_type": "code",
   "execution_count": 36,
   "id": "161ff665",
   "metadata": {},
   "outputs": [
    {
     "data": {
      "text/plain": [
       "0"
      ]
     },
     "execution_count": 36,
     "metadata": {},
     "output_type": "execute_result"
    }
   ],
   "source": [
    "df.duplicated().sum()"
   ]
  },
  {
   "cell_type": "code",
   "execution_count": 37,
   "id": "9e6c15e9",
   "metadata": {},
   "outputs": [
    {
     "data": {
      "text/html": [
       "<div>\n",
       "<style scoped>\n",
       "    .dataframe tbody tr th:only-of-type {\n",
       "        vertical-align: middle;\n",
       "    }\n",
       "\n",
       "    .dataframe tbody tr th {\n",
       "        vertical-align: top;\n",
       "    }\n",
       "\n",
       "    .dataframe thead th {\n",
       "        text-align: right;\n",
       "    }\n",
       "</style>\n",
       "<table border=\"1\" class=\"dataframe\">\n",
       "  <thead>\n",
       "    <tr style=\"text-align: right;\">\n",
       "      <th></th>\n",
       "    </tr>\n",
       "  </thead>\n",
       "  <tbody>\n",
       "  </tbody>\n",
       "</table>\n",
       "</div>"
      ],
      "text/plain": [
       "Empty DataFrame\n",
       "Columns: []\n",
       "Index: []"
      ]
     },
     "execution_count": 37,
     "metadata": {},
     "output_type": "execute_result"
    }
   ],
   "source": [
    "df.corr()"
   ]
  },
  {
   "cell_type": "code",
   "execution_count": 44,
   "id": "bec6cc2d",
   "metadata": {},
   "outputs": [
    {
     "data": {
      "text/plain": [
       "DATE       CODE   NAME                        12m Low  12m High  Day Low  Day High  Day Price  Previous  Change  Change%  Volume     Adjust\n",
       "1-Aug-13   ABSA   ABSA Bank Kenya Plc         9        14.2      15.75    17.55     17.45      17.35     0.1     0.58%    5,064,300  -         1\n",
       "28-Feb-13  SASN   Sasini Plc                  14.8     19        10.5     11.55     11         10.95     0.05    0.46%    78,500     -         1\n",
       "           KQ     Kenya Airways Plc           0.8      5         10.6     10.7      10.65      10.65     -       -        170,400    42.6      1\n",
       "           KUKZ   Kakuzi Plc                  300      423.5     77       77        77         77        -       -        -          -         1\n",
       "           LBTY   Liberty Kenya Holdings Ltd  6.8      11        7        7.1       7.05       7         0.05    0.71%    181,900    -         1\n",
       "                                                                                                                                              ..\n",
       "19-Aug-13  LBTY   Liberty Kenya Holdings Ltd  6.8      11        11.05    12.4      11.55      12.05     -0.5    4.15%    3,300      -         1\n",
       "           LIMT   Limuru Tea Plc              385      475       490      490       490        490       -       -        -          245       1\n",
       "           LKL    Longhorn Publishers Plc     4.26     8.2       14.5     14.5      14.5       14.15     0.35    2.47%    1,300      5.8       1\n",
       "           MSC    Mumias Sugar Company Ltd    0.27     0.39      3.95     4.2       4          3.95      0.05    1.27%    1,083,800  -         1\n",
       "9-Sep-13   ^NASI  NSE All-Share Index         124.3    171.36    122.76   122.76    122.76     122.3     0.46    0.38%    -          -         1\n",
       "Length: 14889, dtype: int64"
      ]
     },
     "execution_count": 44,
     "metadata": {},
     "output_type": "execute_result"
    }
   ],
   "source": [
    "df.value_counts()"
   ]
  },
  {
   "cell_type": "code",
   "execution_count": 53,
   "id": "99f58e2b",
   "metadata": {},
   "outputs": [
    {
     "name": "stdout",
     "output_type": "stream",
     "text": [
      "<class 'pandas.core.frame.DataFrame'>\n",
      "RangeIndex: 14889 entries, 0 to 14888\n",
      "Data columns (total 13 columns):\n",
      " #   Column     Non-Null Count  Dtype \n",
      "---  ------     --------------  ----- \n",
      " 0   DATE       14889 non-null  object\n",
      " 1   CODE       14889 non-null  object\n",
      " 2   NAME       14889 non-null  object\n",
      " 3   12m Low    14889 non-null  object\n",
      " 4   12m High   14889 non-null  object\n",
      " 5   Day Low    14889 non-null  object\n",
      " 6   Day High   14889 non-null  object\n",
      " 7   Day Price  14889 non-null  object\n",
      " 8   Previous   14889 non-null  object\n",
      " 9   Change     14889 non-null  object\n",
      " 10  Change%    14889 non-null  object\n",
      " 11  Volume     14889 non-null  object\n",
      " 12  Adjust     14889 non-null  object\n",
      "dtypes: object(13)\n",
      "memory usage: 756.1+ KB\n"
     ]
    }
   ],
   "source": [
    "df.info()"
   ]
  },
  {
   "cell_type": "code",
   "execution_count": 56,
   "id": "fe4357f4",
   "metadata": {},
   "outputs": [
    {
     "name": "stdout",
     "output_type": "stream",
     "text": [
      "List of dropped columns: CODE, \n",
      "\n"
     ]
    }
   ],
   "source": [
    "df2 = df[[column for column in df if df[column].count() / len(df) >= 0.3]]\n",
    "del df2['CODE']\n",
    "print(\"List of dropped columns:\", end=\" \")\n",
    "for c in df.columns:\n",
    "    if c not in df2.columns:\n",
    "        print(c, end=\", \")\n",
    "print('\\n')\n",
    "df = df2"
   ]
  },
  {
   "cell_type": "code",
   "execution_count": 77,
   "id": "4fb0b1bf",
   "metadata": {},
   "outputs": [
    {
     "data": {
      "text/plain": [
       "[dtype('O')]"
      ]
     },
     "execution_count": 77,
     "metadata": {},
     "output_type": "execute_result"
    }
   ],
   "source": [
    "list(set(df.dtypes.tolist()))"
   ]
  },
  {
   "cell_type": "code",
   "execution_count": 112,
   "id": "172f82fc",
   "metadata": {},
   "outputs": [],
   "source": [
    "cols=['DATE','CODE','NAME','12m Low','12m High','Day Low','Day High ','Day Price','Previous','Change','Change%','Volume','Adjust',]"
   ]
  },
  {
   "cell_type": "code",
   "execution_count": 114,
   "id": "073e6db6",
   "metadata": {},
   "outputs": [],
   "source": [
    "columns=cols"
   ]
  },
  {
   "cell_type": "code",
   "execution_count": 129,
   "id": "dc486e34",
   "metadata": {},
   "outputs": [
    {
     "ename": "IndentationError",
     "evalue": "unexpected indent (3779196191.py, line 2)",
     "output_type": "error",
     "traceback": [
      "\u001b[1;36m  Input \u001b[1;32mIn [129]\u001b[1;36m\u001b[0m\n\u001b[1;33m    for col in auto.columns:\u001b[0m\n\u001b[1;37m    ^\u001b[0m\n\u001b[1;31mIndentationError\u001b[0m\u001b[1;31m:\u001b[0m unexpected indent\n"
     ]
    }
   ],
   "source": [
    "#Checking for wrong entries like symbols -,?,#,*,etc.\n",
    " for col in auto.columns:\n",
    "    print('{} : {}'.format(col,auto[col].unique()))"
   ]
  },
  {
   "cell_type": "code",
   "execution_count": 108,
   "id": "80f9d472",
   "metadata": {},
   "outputs": [
    {
     "data": {
      "text/plain": [
       "Text(0, 0.5, 'code')"
      ]
     },
     "execution_count": 108,
     "metadata": {},
     "output_type": "execute_result"
    },
    {
     "data": {
      "image/png": "[encoded data removed]",
      "text/plain": [
       "<Figure size 720x720 with 1 Axes>"
      ]
     },
     "metadata": {
      "needs_background": "light"
     },
     "output_type": "display_data"
    }
   ],
   "source": [
    "plt.figure(figsize=(10,10))\n",
    "plt.scatter(x='date',y='code')\n",
    "plt.xlabel('date')\n",
    "plt.ylabel('code')"
   ]
  },
  {
   "cell_type": "code",
   "execution_count": null,
   "id": "ace9ea04",
   "metadata": {},
   "outputs": [],
   "source": []
  }
 ],
 "metadata": {
  "kernelspec": {
   "display_name": "Python 3 (ipykernel)",
   "language": "python",
   "name": "python3"
  },
  "language_info": {
   "codemirror_mode": {
    "name": "ipython",
    "version": 3
   },
   "file_extension": ".py",
   "mimetype": "text/x-python",
   "name": "python",
   "nbconvert_exporter": "python",
   "pygments_lexer": "ipython3",
   "version": "3.9.12"
  }
 },
 "nbformat": 4,
 "nbformat_minor": 5
}
